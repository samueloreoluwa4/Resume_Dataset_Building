{
 "cells": [
  {
   "cell_type": "code",
   "execution_count": 1,
   "metadata": {},
   "outputs": [],
   "source": [
    "import pandas as pd\n",
    "import numpy as np\n",
    "import matplotlib.pyplot as plt\n",
    "import seaborn as sns\n",
    "%matplotlib inline"
   ]
  },
  {
   "cell_type": "code",
   "execution_count": 2,
   "metadata": {},
   "outputs": [
    {
     "name": "stdout",
     "output_type": "stream",
     "text": [
      "Personal Information\n"
     ]
    }
   ],
   "source": [
    "print(\"Personal Information\")\n",
    "abdul = pd.read_csv(\"abdulbaqqi_personal_information.csv\")\n",
    "aishat = pd.read_csv(\"Aishat_Personal_Information.csv\")\n",
    "bisola = pd.read_csv(\"Bisola_personal_information.csv\")\n",
    "feranmi = pd.read_csv(\"Oluwaferanmi_PersonalInfo.csv\")\n",
    "samuel = pd.read_csv(\"Samuel_Personal_Information.csv\")\n",
    "state = pd.read_csv(\"Statesman_personal_information.csv\")\n",
    "theo = pd.read_csv(\"TheophilusPersonal Information.csv\")"
   ]
  },
  {
   "cell_type": "code",
   "execution_count": 3,
   "metadata": {},
   "outputs": [
    {
     "data": {
      "text/html": [
       "<div>\n",
       "<style scoped>\n",
       "    .dataframe tbody tr th:only-of-type {\n",
       "        vertical-align: middle;\n",
       "    }\n",
       "\n",
       "    .dataframe tbody tr th {\n",
       "        vertical-align: top;\n",
       "    }\n",
       "\n",
       "    .dataframe thead th {\n",
       "        text-align: right;\n",
       "    }\n",
       "</style>\n",
       "<table border=\"1\" class=\"dataframe\">\n",
       "  <thead>\n",
       "    <tr style=\"text-align: right;\">\n",
       "      <th></th>\n",
       "      <th>Unnamed: 0</th>\n",
       "      <th>EMAIL</th>\n",
       "      <th>FIRST NAME</th>\n",
       "      <th>LAST NAME</th>\n",
       "      <th>LOCATION</th>\n",
       "      <th>TELEPHONE</th>\n",
       "    </tr>\n",
       "  </thead>\n",
       "  <tbody>\n",
       "    <tr>\n",
       "      <th>0</th>\n",
       "      <td>1</td>\n",
       "      <td>salawuabdulbaki@gmail.com</td>\n",
       "      <td>abdulbaki</td>\n",
       "      <td>salawu</td>\n",
       "      <td>olawale yahaya bagaruwa street ilorin</td>\n",
       "      <td>9068924442</td>\n",
       "    </tr>\n",
       "  </tbody>\n",
       "</table>\n",
       "</div>"
      ],
      "text/plain": [
       "   Unnamed: 0                      EMAIL FIRST NAME LAST NAME  \\\n",
       "0           1  salawuabdulbaki@gmail.com  abdulbaki    salawu   \n",
       "\n",
       "                                LOCATION   TELEPHONE  \n",
       "0  olawale yahaya bagaruwa street ilorin  9068924442  "
      ]
     },
     "execution_count": 3,
     "metadata": {},
     "output_type": "execute_result"
    }
   ],
   "source": [
    "abdul = pd.DataFrame(abdul)\n",
    "abdul"
   ]
  },
  {
   "cell_type": "code",
   "execution_count": 4,
   "metadata": {},
   "outputs": [
    {
     "data": {
      "text/html": [
       "<div>\n",
       "<style scoped>\n",
       "    .dataframe tbody tr th:only-of-type {\n",
       "        vertical-align: middle;\n",
       "    }\n",
       "\n",
       "    .dataframe tbody tr th {\n",
       "        vertical-align: top;\n",
       "    }\n",
       "\n",
       "    .dataframe thead th {\n",
       "        text-align: right;\n",
       "    }\n",
       "</style>\n",
       "<table border=\"1\" class=\"dataframe\">\n",
       "  <thead>\n",
       "    <tr style=\"text-align: right;\">\n",
       "      <th></th>\n",
       "      <th>Email</th>\n",
       "      <th>First_name</th>\n",
       "      <th>Last_name</th>\n",
       "      <th>Location</th>\n",
       "      <th>Phone_number</th>\n",
       "    </tr>\n",
       "  </thead>\n",
       "  <tbody>\n",
       "    <tr>\n",
       "      <th>0</th>\n",
       "      <td>salawuabdulbaki@gmail.com</td>\n",
       "      <td>abdulbaki</td>\n",
       "      <td>salawu</td>\n",
       "      <td>olawale yahaya bagaruwa street ilorin</td>\n",
       "      <td>9068924442</td>\n",
       "    </tr>\n",
       "  </tbody>\n",
       "</table>\n",
       "</div>"
      ],
      "text/plain": [
       "                       Email First_name Last_name  \\\n",
       "0  salawuabdulbaki@gmail.com  abdulbaki    salawu   \n",
       "\n",
       "                                Location  Phone_number  \n",
       "0  olawale yahaya bagaruwa street ilorin    9068924442  "
      ]
     },
     "execution_count": 4,
     "metadata": {},
     "output_type": "execute_result"
    }
   ],
   "source": [
    "abdul1 = abdul.rename({\"EMAIL\":\"Email\", \"FIRST NAME\":\"First_name\", \"LAST NAME\":\"Last_name\", \"LOCATION\":\"Location\", \"TELEPHONE\":\"Phone_number\",}, axis='columns')\n",
    "del abdul1['Unnamed: 0']\n",
    "abdul1"
   ]
  },
  {
   "cell_type": "code",
   "execution_count": 5,
   "metadata": {},
   "outputs": [
    {
     "data": {
      "text/html": [
       "<div>\n",
       "<style scoped>\n",
       "    .dataframe tbody tr th:only-of-type {\n",
       "        vertical-align: middle;\n",
       "    }\n",
       "\n",
       "    .dataframe tbody tr th {\n",
       "        vertical-align: top;\n",
       "    }\n",
       "\n",
       "    .dataframe thead th {\n",
       "        text-align: right;\n",
       "    }\n",
       "</style>\n",
       "<table border=\"1\" class=\"dataframe\">\n",
       "  <thead>\n",
       "    <tr style=\"text-align: right;\">\n",
       "      <th></th>\n",
       "      <th>Unnamed: 0</th>\n",
       "      <th>First name</th>\n",
       "      <th>Middle name</th>\n",
       "      <th>Surname</th>\n",
       "      <th>Address</th>\n",
       "      <th>Email</th>\n",
       "      <th>Tel</th>\n",
       "    </tr>\n",
       "  </thead>\n",
       "  <tbody>\n",
       "    <tr>\n",
       "      <th>0</th>\n",
       "      <td>0</td>\n",
       "      <td>Aishat</td>\n",
       "      <td>Ayinke</td>\n",
       "      <td>Aremu</td>\n",
       "      <td>33 Issah Williams Street Apongnon</td>\n",
       "      <td>aishatmorenike1@gmail.com</td>\n",
       "      <td>7084283672</td>\n",
       "    </tr>\n",
       "  </tbody>\n",
       "</table>\n",
       "</div>"
      ],
      "text/plain": [
       "   Unnamed: 0 First name Middle name Surname  \\\n",
       "0           0     Aishat      Ayinke   Aremu   \n",
       "\n",
       "                             Address                      Email         Tel  \n",
       "0  33 Issah Williams Street Apongnon  aishatmorenike1@gmail.com  7084283672  "
      ]
     },
     "execution_count": 5,
     "metadata": {},
     "output_type": "execute_result"
    }
   ],
   "source": [
    "aishat = pd.DataFrame(aishat)\n",
    "aishat"
   ]
  },
  {
   "cell_type": "code",
   "execution_count": 6,
   "metadata": {},
   "outputs": [
    {
     "data": {
      "text/html": [
       "<div>\n",
       "<style scoped>\n",
       "    .dataframe tbody tr th:only-of-type {\n",
       "        vertical-align: middle;\n",
       "    }\n",
       "\n",
       "    .dataframe tbody tr th {\n",
       "        vertical-align: top;\n",
       "    }\n",
       "\n",
       "    .dataframe thead th {\n",
       "        text-align: right;\n",
       "    }\n",
       "</style>\n",
       "<table border=\"1\" class=\"dataframe\">\n",
       "  <thead>\n",
       "    <tr style=\"text-align: right;\">\n",
       "      <th></th>\n",
       "      <th>First_name</th>\n",
       "      <th>Last_name</th>\n",
       "      <th>Location</th>\n",
       "      <th>Email</th>\n",
       "      <th>Phone_number</th>\n",
       "    </tr>\n",
       "  </thead>\n",
       "  <tbody>\n",
       "    <tr>\n",
       "      <th>0</th>\n",
       "      <td>Aishat</td>\n",
       "      <td>Aremu</td>\n",
       "      <td>33 Issah Williams Street Apongnon</td>\n",
       "      <td>aishatmorenike1@gmail.com</td>\n",
       "      <td>7084283672</td>\n",
       "    </tr>\n",
       "  </tbody>\n",
       "</table>\n",
       "</div>"
      ],
      "text/plain": [
       "  First_name Last_name                           Location  \\\n",
       "0     Aishat     Aremu  33 Issah Williams Street Apongnon   \n",
       "\n",
       "                       Email  Phone_number  \n",
       "0  aishatmorenike1@gmail.com    7084283672  "
      ]
     },
     "execution_count": 6,
     "metadata": {},
     "output_type": "execute_result"
    }
   ],
   "source": [
    "aishat2 = aishat.rename({\"First name\":\"First_name\", \"Surname\":\"Last_name\", \"Address\":\"Location\", \"Tel\":\"Phone_number\"}, axis='columns')\n",
    "del aishat2['Unnamed: 0']\n",
    "del aishat2[\"Middle name\"]\n",
    "aishat2"
   ]
  },
  {
   "cell_type": "code",
   "execution_count": 7,
   "metadata": {},
   "outputs": [
    {
     "data": {
      "text/html": [
       "<div>\n",
       "<style scoped>\n",
       "    .dataframe tbody tr th:only-of-type {\n",
       "        vertical-align: middle;\n",
       "    }\n",
       "\n",
       "    .dataframe tbody tr th {\n",
       "        vertical-align: top;\n",
       "    }\n",
       "\n",
       "    .dataframe thead th {\n",
       "        text-align: right;\n",
       "    }\n",
       "</style>\n",
       "<table border=\"1\" class=\"dataframe\">\n",
       "  <thead>\n",
       "    <tr style=\"text-align: right;\">\n",
       "      <th></th>\n",
       "      <th>Unnamed: 0</th>\n",
       "      <th>Last Name</th>\n",
       "      <th>First Name</th>\n",
       "      <th>Phone Number</th>\n",
       "      <th>Location</th>\n",
       "      <th>E-mail</th>\n",
       "    </tr>\n",
       "  </thead>\n",
       "  <tbody>\n",
       "    <tr>\n",
       "      <th>0</th>\n",
       "      <td>0</td>\n",
       "      <td>Bolomope</td>\n",
       "      <td>Faoziyyah</td>\n",
       "      <td>9059329620</td>\n",
       "      <td>Oyo</td>\n",
       "      <td>bisolabolomope@gmail.com</td>\n",
       "    </tr>\n",
       "  </tbody>\n",
       "</table>\n",
       "</div>"
      ],
      "text/plain": [
       "   Unnamed: 0  Last Name First Name  Phone Number Location  \\\n",
       "0           0  Bolomope   Faoziyyah    9059329620      Oyo   \n",
       "\n",
       "                     E-mail  \n",
       "0  bisolabolomope@gmail.com  "
      ]
     },
     "execution_count": 7,
     "metadata": {},
     "output_type": "execute_result"
    }
   ],
   "source": [
    "bisola = pd.DataFrame(bisola)\n",
    "bisola"
   ]
  },
  {
   "cell_type": "code",
   "execution_count": 8,
   "metadata": {},
   "outputs": [
    {
     "data": {
      "text/html": [
       "<div>\n",
       "<style scoped>\n",
       "    .dataframe tbody tr th:only-of-type {\n",
       "        vertical-align: middle;\n",
       "    }\n",
       "\n",
       "    .dataframe tbody tr th {\n",
       "        vertical-align: top;\n",
       "    }\n",
       "\n",
       "    .dataframe thead th {\n",
       "        text-align: right;\n",
       "    }\n",
       "</style>\n",
       "<table border=\"1\" class=\"dataframe\">\n",
       "  <thead>\n",
       "    <tr style=\"text-align: right;\">\n",
       "      <th></th>\n",
       "      <th>Last_name</th>\n",
       "      <th>First_name</th>\n",
       "      <th>Phone_number</th>\n",
       "      <th>Location</th>\n",
       "      <th>Email</th>\n",
       "    </tr>\n",
       "  </thead>\n",
       "  <tbody>\n",
       "    <tr>\n",
       "      <th>0</th>\n",
       "      <td>Bolomope</td>\n",
       "      <td>Faoziyyah</td>\n",
       "      <td>9059329620</td>\n",
       "      <td>Oyo</td>\n",
       "      <td>bisolabolomope@gmail.com</td>\n",
       "    </tr>\n",
       "  </tbody>\n",
       "</table>\n",
       "</div>"
      ],
      "text/plain": [
       "   Last_name First_name  Phone_number Location                     Email\n",
       "0  Bolomope   Faoziyyah    9059329620      Oyo  bisolabolomope@gmail.com"
      ]
     },
     "execution_count": 8,
     "metadata": {},
     "output_type": "execute_result"
    }
   ],
   "source": [
    "bisola3 = bisola.rename({\"Last Name\":\"Last_name\", \"First Name\":\"First_name\", \"Phone Number\":\"Phone_number\", \"E-mail\":\"Email\"}, axis='columns')\n",
    "del bisola3[\"Unnamed: 0\"]\n",
    "bisola3"
   ]
  },
  {
   "cell_type": "code",
   "execution_count": 9,
   "metadata": {},
   "outputs": [
    {
     "data": {
      "text/html": [
       "<div>\n",
       "<style scoped>\n",
       "    .dataframe tbody tr th:only-of-type {\n",
       "        vertical-align: middle;\n",
       "    }\n",
       "\n",
       "    .dataframe tbody tr th {\n",
       "        vertical-align: top;\n",
       "    }\n",
       "\n",
       "    .dataframe thead th {\n",
       "        text-align: right;\n",
       "    }\n",
       "</style>\n",
       "<table border=\"1\" class=\"dataframe\">\n",
       "  <thead>\n",
       "    <tr style=\"text-align: right;\">\n",
       "      <th></th>\n",
       "      <th>Last Name</th>\n",
       "      <th>First Name</th>\n",
       "      <th>Tel</th>\n",
       "      <th>Location</th>\n",
       "      <th>Email</th>\n",
       "    </tr>\n",
       "  </thead>\n",
       "  <tbody>\n",
       "    <tr>\n",
       "      <th>0</th>\n",
       "      <td>Ajirireloja</td>\n",
       "      <td>Michael</td>\n",
       "      <td>9076588590</td>\n",
       "      <td>Abuja</td>\n",
       "      <td>aechealgr8@gmail.com</td>\n",
       "    </tr>\n",
       "  </tbody>\n",
       "</table>\n",
       "</div>"
      ],
      "text/plain": [
       "     Last Name First Name         Tel Location                 Email\n",
       "0  Ajirireloja    Michael  9076588590    Abuja  aechealgr8@gmail.com"
      ]
     },
     "execution_count": 9,
     "metadata": {},
     "output_type": "execute_result"
    }
   ],
   "source": [
    "feranmi = pd.DataFrame(feranmi)\n",
    "feranmi"
   ]
  },
  {
   "cell_type": "code",
   "execution_count": 10,
   "metadata": {},
   "outputs": [
    {
     "data": {
      "text/html": [
       "<div>\n",
       "<style scoped>\n",
       "    .dataframe tbody tr th:only-of-type {\n",
       "        vertical-align: middle;\n",
       "    }\n",
       "\n",
       "    .dataframe tbody tr th {\n",
       "        vertical-align: top;\n",
       "    }\n",
       "\n",
       "    .dataframe thead th {\n",
       "        text-align: right;\n",
       "    }\n",
       "</style>\n",
       "<table border=\"1\" class=\"dataframe\">\n",
       "  <thead>\n",
       "    <tr style=\"text-align: right;\">\n",
       "      <th></th>\n",
       "      <th>Last_name</th>\n",
       "      <th>First_name</th>\n",
       "      <th>Phone_number</th>\n",
       "      <th>Location</th>\n",
       "      <th>Email</th>\n",
       "    </tr>\n",
       "  </thead>\n",
       "  <tbody>\n",
       "    <tr>\n",
       "      <th>0</th>\n",
       "      <td>Ajirireloja</td>\n",
       "      <td>Michael</td>\n",
       "      <td>9076588590</td>\n",
       "      <td>Abuja</td>\n",
       "      <td>aechealgr8@gmail.com</td>\n",
       "    </tr>\n",
       "  </tbody>\n",
       "</table>\n",
       "</div>"
      ],
      "text/plain": [
       "     Last_name First_name  Phone_number Location                 Email\n",
       "0  Ajirireloja    Michael    9076588590    Abuja  aechealgr8@gmail.com"
      ]
     },
     "execution_count": 10,
     "metadata": {},
     "output_type": "execute_result"
    }
   ],
   "source": [
    "feranmi4 = feranmi.rename({\"Last Name\":\"Last_name\", \"First Name\":\"First_name\", \"Tel\":\"Phone_number\",}, axis='columns')\n",
    "feranmi4"
   ]
  },
  {
   "cell_type": "code",
   "execution_count": 11,
   "metadata": {},
   "outputs": [
    {
     "data": {
      "text/html": [
       "<div>\n",
       "<style scoped>\n",
       "    .dataframe tbody tr th:only-of-type {\n",
       "        vertical-align: middle;\n",
       "    }\n",
       "\n",
       "    .dataframe tbody tr th {\n",
       "        vertical-align: top;\n",
       "    }\n",
       "\n",
       "    .dataframe thead th {\n",
       "        text-align: right;\n",
       "    }\n",
       "</style>\n",
       "<table border=\"1\" class=\"dataframe\">\n",
       "  <thead>\n",
       "    <tr style=\"text-align: right;\">\n",
       "      <th></th>\n",
       "      <th>Unnamed: 0</th>\n",
       "      <th>Last_name</th>\n",
       "      <th>First_name</th>\n",
       "      <th>Phone_number</th>\n",
       "      <th>Location</th>\n",
       "      <th>E-mail</th>\n",
       "    </tr>\n",
       "  </thead>\n",
       "  <tbody>\n",
       "    <tr>\n",
       "      <th>0</th>\n",
       "      <td>0</td>\n",
       "      <td>AKINLABI</td>\n",
       "      <td>Samuel</td>\n",
       "      <td>7012659092</td>\n",
       "      <td>Lagos</td>\n",
       "      <td>samueloreoluwa4@gmail.com</td>\n",
       "    </tr>\n",
       "  </tbody>\n",
       "</table>\n",
       "</div>"
      ],
      "text/plain": [
       "   Unnamed: 0  Last_name First_name  Phone_number Location  \\\n",
       "0           0  AKINLABI     Samuel     7012659092    Lagos   \n",
       "\n",
       "                      E-mail  \n",
       "0  samueloreoluwa4@gmail.com  "
      ]
     },
     "execution_count": 11,
     "metadata": {},
     "output_type": "execute_result"
    }
   ],
   "source": [
    "samuel = pd.DataFrame(samuel)\n",
    "samuel"
   ]
  },
  {
   "cell_type": "code",
   "execution_count": 12,
   "metadata": {},
   "outputs": [
    {
     "data": {
      "text/html": [
       "<div>\n",
       "<style scoped>\n",
       "    .dataframe tbody tr th:only-of-type {\n",
       "        vertical-align: middle;\n",
       "    }\n",
       "\n",
       "    .dataframe tbody tr th {\n",
       "        vertical-align: top;\n",
       "    }\n",
       "\n",
       "    .dataframe thead th {\n",
       "        text-align: right;\n",
       "    }\n",
       "</style>\n",
       "<table border=\"1\" class=\"dataframe\">\n",
       "  <thead>\n",
       "    <tr style=\"text-align: right;\">\n",
       "      <th></th>\n",
       "      <th>Last_name</th>\n",
       "      <th>First_name</th>\n",
       "      <th>Phone_number</th>\n",
       "      <th>Location</th>\n",
       "      <th>Email</th>\n",
       "    </tr>\n",
       "  </thead>\n",
       "  <tbody>\n",
       "    <tr>\n",
       "      <th>0</th>\n",
       "      <td>AKINLABI</td>\n",
       "      <td>Samuel</td>\n",
       "      <td>7012659092</td>\n",
       "      <td>Lagos</td>\n",
       "      <td>samueloreoluwa4@gmail.com</td>\n",
       "    </tr>\n",
       "  </tbody>\n",
       "</table>\n",
       "</div>"
      ],
      "text/plain": [
       "   Last_name First_name  Phone_number Location                      Email\n",
       "0  AKINLABI     Samuel     7012659092    Lagos  samueloreoluwa4@gmail.com"
      ]
     },
     "execution_count": 12,
     "metadata": {},
     "output_type": "execute_result"
    }
   ],
   "source": [
    "samuel5 = samuel.rename({\"E-mail\":\"Email\"}, axis='columns')\n",
    "del samuel5['Unnamed: 0']\n",
    "samuel5"
   ]
  },
  {
   "cell_type": "code",
   "execution_count": 13,
   "metadata": {},
   "outputs": [
    {
     "data": {
      "text/html": [
       "<div>\n",
       "<style scoped>\n",
       "    .dataframe tbody tr th:only-of-type {\n",
       "        vertical-align: middle;\n",
       "    }\n",
       "\n",
       "    .dataframe tbody tr th {\n",
       "        vertical-align: top;\n",
       "    }\n",
       "\n",
       "    .dataframe thead th {\n",
       "        text-align: right;\n",
       "    }\n",
       "</style>\n",
       "<table border=\"1\" class=\"dataframe\">\n",
       "  <thead>\n",
       "    <tr style=\"text-align: right;\">\n",
       "      <th></th>\n",
       "      <th>Unnamed: 0</th>\n",
       "      <th>Last name</th>\n",
       "      <th>First name</th>\n",
       "      <th>Phone number</th>\n",
       "      <th>Location</th>\n",
       "      <th>Email</th>\n",
       "    </tr>\n",
       "  </thead>\n",
       "  <tbody>\n",
       "    <tr>\n",
       "      <th>0</th>\n",
       "      <td>0</td>\n",
       "      <td>Statesman</td>\n",
       "      <td>Oyehan Adeyinka</td>\n",
       "      <td>582556152</td>\n",
       "      <td>Dhahran</td>\n",
       "      <td>adeyinka.statesman@gmail.com</td>\n",
       "    </tr>\n",
       "  </tbody>\n",
       "</table>\n",
       "</div>"
      ],
      "text/plain": [
       "   Unnamed: 0  Last name       First name  Phone number Location  \\\n",
       "0           0  Statesman  Oyehan Adeyinka     582556152  Dhahran   \n",
       "\n",
       "                          Email  \n",
       "0  adeyinka.statesman@gmail.com  "
      ]
     },
     "execution_count": 13,
     "metadata": {},
     "output_type": "execute_result"
    }
   ],
   "source": [
    "state = pd.DataFrame(state)\n",
    "state"
   ]
  },
  {
   "cell_type": "code",
   "execution_count": 14,
   "metadata": {},
   "outputs": [
    {
     "data": {
      "text/html": [
       "<div>\n",
       "<style scoped>\n",
       "    .dataframe tbody tr th:only-of-type {\n",
       "        vertical-align: middle;\n",
       "    }\n",
       "\n",
       "    .dataframe tbody tr th {\n",
       "        vertical-align: top;\n",
       "    }\n",
       "\n",
       "    .dataframe thead th {\n",
       "        text-align: right;\n",
       "    }\n",
       "</style>\n",
       "<table border=\"1\" class=\"dataframe\">\n",
       "  <thead>\n",
       "    <tr style=\"text-align: right;\">\n",
       "      <th></th>\n",
       "      <th>Last_name</th>\n",
       "      <th>First_name</th>\n",
       "      <th>Phone_number</th>\n",
       "      <th>Location</th>\n",
       "      <th>Email</th>\n",
       "    </tr>\n",
       "  </thead>\n",
       "  <tbody>\n",
       "    <tr>\n",
       "      <th>0</th>\n",
       "      <td>Statesman</td>\n",
       "      <td>Oyehan Adeyinka</td>\n",
       "      <td>582556152</td>\n",
       "      <td>Dhahran</td>\n",
       "      <td>adeyinka.statesman@gmail.com</td>\n",
       "    </tr>\n",
       "  </tbody>\n",
       "</table>\n",
       "</div>"
      ],
      "text/plain": [
       "   Last_name       First_name  Phone_number Location  \\\n",
       "0  Statesman  Oyehan Adeyinka     582556152  Dhahran   \n",
       "\n",
       "                          Email  \n",
       "0  adeyinka.statesman@gmail.com  "
      ]
     },
     "execution_count": 14,
     "metadata": {},
     "output_type": "execute_result"
    }
   ],
   "source": [
    "state6 = state.rename({\"Last name\":\"Last_name\", \"First name\":\"First_name\", \"Phone number\":\"Phone_number\"}, axis='columns')\n",
    "del state6['Unnamed: 0']\n",
    "state6"
   ]
  },
  {
   "cell_type": "code",
   "execution_count": 15,
   "metadata": {},
   "outputs": [
    {
     "data": {
      "text/html": [
       "<div>\n",
       "<style scoped>\n",
       "    .dataframe tbody tr th:only-of-type {\n",
       "        vertical-align: middle;\n",
       "    }\n",
       "\n",
       "    .dataframe tbody tr th {\n",
       "        vertical-align: top;\n",
       "    }\n",
       "\n",
       "    .dataframe thead th {\n",
       "        text-align: right;\n",
       "    }\n",
       "</style>\n",
       "<table border=\"1\" class=\"dataframe\">\n",
       "  <thead>\n",
       "    <tr style=\"text-align: right;\">\n",
       "      <th></th>\n",
       "      <th>Unnamed: 0</th>\n",
       "      <th>Last name</th>\n",
       "      <th>First name</th>\n",
       "      <th>Phone number</th>\n",
       "      <th>Location</th>\n",
       "      <th>E-mail</th>\n",
       "    </tr>\n",
       "  </thead>\n",
       "  <tbody>\n",
       "    <tr>\n",
       "      <th>0</th>\n",
       "      <td>0</td>\n",
       "      <td>ige</td>\n",
       "      <td>theophilus</td>\n",
       "      <td>8052085331</td>\n",
       "      <td>Lagos</td>\n",
       "      <td>igetheophilus02@gmail.com</td>\n",
       "    </tr>\n",
       "  </tbody>\n",
       "</table>\n",
       "</div>"
      ],
      "text/plain": [
       "   Unnamed: 0 Last name  First name  Phone number Location  \\\n",
       "0           0       ige  theophilus    8052085331    Lagos   \n",
       "\n",
       "                      E-mail  \n",
       "0  igetheophilus02@gmail.com  "
      ]
     },
     "execution_count": 15,
     "metadata": {},
     "output_type": "execute_result"
    }
   ],
   "source": [
    "theo = pd.DataFrame(theo)\n",
    "theo"
   ]
  },
  {
   "cell_type": "code",
   "execution_count": 16,
   "metadata": {},
   "outputs": [
    {
     "data": {
      "text/html": [
       "<div>\n",
       "<style scoped>\n",
       "    .dataframe tbody tr th:only-of-type {\n",
       "        vertical-align: middle;\n",
       "    }\n",
       "\n",
       "    .dataframe tbody tr th {\n",
       "        vertical-align: top;\n",
       "    }\n",
       "\n",
       "    .dataframe thead th {\n",
       "        text-align: right;\n",
       "    }\n",
       "</style>\n",
       "<table border=\"1\" class=\"dataframe\">\n",
       "  <thead>\n",
       "    <tr style=\"text-align: right;\">\n",
       "      <th></th>\n",
       "      <th>Last_name</th>\n",
       "      <th>First_name</th>\n",
       "      <th>Phone_number</th>\n",
       "      <th>Location</th>\n",
       "      <th>Email</th>\n",
       "    </tr>\n",
       "  </thead>\n",
       "  <tbody>\n",
       "    <tr>\n",
       "      <th>0</th>\n",
       "      <td>ige</td>\n",
       "      <td>theophilus</td>\n",
       "      <td>8052085331</td>\n",
       "      <td>Lagos</td>\n",
       "      <td>igetheophilus02@gmail.com</td>\n",
       "    </tr>\n",
       "  </tbody>\n",
       "</table>\n",
       "</div>"
      ],
      "text/plain": [
       "  Last_name  First_name  Phone_number Location                      Email\n",
       "0       ige  theophilus    8052085331    Lagos  igetheophilus02@gmail.com"
      ]
     },
     "execution_count": 16,
     "metadata": {},
     "output_type": "execute_result"
    }
   ],
   "source": [
    "theo7 = theo.rename({\"Last name\":\"Last_name\", \"First name\":\"First_name\", \"Phone number\":\"Phone_number\", \"E-mail\":\"Email\"}, axis='columns')\n",
    "del theo7['Unnamed: 0']\n",
    "theo7"
   ]
  },
  {
   "cell_type": "code",
   "execution_count": 17,
   "metadata": {
    "scrolled": true
   },
   "outputs": [
    {
     "data": {
      "text/html": [
       "<div>\n",
       "<style scoped>\n",
       "    .dataframe tbody tr th:only-of-type {\n",
       "        vertical-align: middle;\n",
       "    }\n",
       "\n",
       "    .dataframe tbody tr th {\n",
       "        vertical-align: top;\n",
       "    }\n",
       "\n",
       "    .dataframe thead th {\n",
       "        text-align: right;\n",
       "    }\n",
       "</style>\n",
       "<table border=\"1\" class=\"dataframe\">\n",
       "  <thead>\n",
       "    <tr style=\"text-align: right;\">\n",
       "      <th></th>\n",
       "      <th>Email</th>\n",
       "      <th>First_name</th>\n",
       "      <th>Last_name</th>\n",
       "      <th>Location</th>\n",
       "      <th>Phone_number</th>\n",
       "    </tr>\n",
       "  </thead>\n",
       "  <tbody>\n",
       "    <tr>\n",
       "      <th>0</th>\n",
       "      <td>salawuabdulbaki@gmail.com</td>\n",
       "      <td>abdulbaki</td>\n",
       "      <td>salawu</td>\n",
       "      <td>olawale yahaya bagaruwa street ilorin</td>\n",
       "      <td>9068924442</td>\n",
       "    </tr>\n",
       "    <tr>\n",
       "      <th>0</th>\n",
       "      <td>aishatmorenike1@gmail.com</td>\n",
       "      <td>Aishat</td>\n",
       "      <td>Aremu</td>\n",
       "      <td>33 Issah Williams Street Apongnon</td>\n",
       "      <td>7084283672</td>\n",
       "    </tr>\n",
       "    <tr>\n",
       "      <th>0</th>\n",
       "      <td>bisolabolomope@gmail.com</td>\n",
       "      <td>Faoziyyah</td>\n",
       "      <td>Bolomope</td>\n",
       "      <td>Oyo</td>\n",
       "      <td>9059329620</td>\n",
       "    </tr>\n",
       "    <tr>\n",
       "      <th>0</th>\n",
       "      <td>aechealgr8@gmail.com</td>\n",
       "      <td>Michael</td>\n",
       "      <td>Ajirireloja</td>\n",
       "      <td>Abuja</td>\n",
       "      <td>9076588590</td>\n",
       "    </tr>\n",
       "    <tr>\n",
       "      <th>0</th>\n",
       "      <td>samueloreoluwa4@gmail.com</td>\n",
       "      <td>Samuel</td>\n",
       "      <td>AKINLABI</td>\n",
       "      <td>Lagos</td>\n",
       "      <td>7012659092</td>\n",
       "    </tr>\n",
       "    <tr>\n",
       "      <th>0</th>\n",
       "      <td>adeyinka.statesman@gmail.com</td>\n",
       "      <td>Oyehan Adeyinka</td>\n",
       "      <td>Statesman</td>\n",
       "      <td>Dhahran</td>\n",
       "      <td>582556152</td>\n",
       "    </tr>\n",
       "    <tr>\n",
       "      <th>0</th>\n",
       "      <td>igetheophilus02@gmail.com</td>\n",
       "      <td>theophilus</td>\n",
       "      <td>ige</td>\n",
       "      <td>Lagos</td>\n",
       "      <td>8052085331</td>\n",
       "    </tr>\n",
       "  </tbody>\n",
       "</table>\n",
       "</div>"
      ],
      "text/plain": [
       "                          Email       First_name    Last_name  \\\n",
       "0     salawuabdulbaki@gmail.com        abdulbaki       salawu   \n",
       "0     aishatmorenike1@gmail.com           Aishat        Aremu   \n",
       "0      bisolabolomope@gmail.com        Faoziyyah    Bolomope    \n",
       "0          aechealgr8@gmail.com          Michael  Ajirireloja   \n",
       "0     samueloreoluwa4@gmail.com          Samuel     AKINLABI    \n",
       "0  adeyinka.statesman@gmail.com  Oyehan Adeyinka    Statesman   \n",
       "0     igetheophilus02@gmail.com       theophilus          ige   \n",
       "\n",
       "                                Location  Phone_number  \n",
       "0  olawale yahaya bagaruwa street ilorin    9068924442  \n",
       "0      33 Issah Williams Street Apongnon    7084283672  \n",
       "0                                    Oyo    9059329620  \n",
       "0                                  Abuja    9076588590  \n",
       "0                                  Lagos    7012659092  \n",
       "0                                Dhahran     582556152  \n",
       "0                                  Lagos    8052085331  "
      ]
     },
     "execution_count": 17,
     "metadata": {},
     "output_type": "execute_result"
    }
   ],
   "source": [
    "Con = pd.concat([abdul1, aishat2, bisola3, feranmi4, samuel5, state6, theo7], sort=False)\n",
    "Con"
   ]
  },
  {
   "cell_type": "code",
   "execution_count": 18,
   "metadata": {},
   "outputs": [],
   "source": [
    "mport numpy as np\n",
    "import matplotlib.pyplot as plt\n",
    "import seaborn as sns\n",
    "%matplotlib inline"
   ]
  }
 ],
 "metadata": {
  "kernelspec": {
   "display_name": "Python 3",
   "language": "python",
   "name": "python3"
  },
  "language_info": {
   "codemirror_mode": {
    "name": "ipython",
    "version": 3
   },
   "file_extension": ".py",
   "mimetype": "text/x-python",
   "name": "python",
   "nbconvert_exporter": "python",
   "pygments_lexer": "ipython3",
   "version": "3.7.4"
  }
 },
 "nbformat": 4,
 "nbformat_minor": 2
}
