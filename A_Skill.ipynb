{
 "cells": [
  {
   "cell_type": "code",
   "execution_count": 1,
   "metadata": {},
   "outputs": [],
   "source": [
    "import pandas as pd\n",
    "import numpy as np\n",
    "import matplotlib.pyplot as plt\n",
    "import seaborn as sns\n",
    "%matplotlib inline"
   ]
  },
  {
   "cell_type": "code",
   "execution_count": 2,
   "metadata": {},
   "outputs": [],
   "source": [
    "abdul = pd.read_csv(\"abdulbaqqi_skills.csv\")\n",
    "aishat = pd.read_csv(\"Aishat_Skill.csv\")\n",
    "bisola = pd.read_csv(\"Bisola_skills.csv\")\n",
    "feranmi = pd.read_csv(\"Oluwaferanmi_Skills.csv\")\n",
    "samuel = pd.read_csv(\"Samuel_Skill.csv\").T\n",
    "state = pd.read_csv(\"Statesman_skills.csv\")\n",
    "theo = pd.read_csv(\"TheophilusSkills.csv\").T"
   ]
  },
  {
   "cell_type": "code",
   "execution_count": 3,
   "metadata": {
    "scrolled": true
   },
   "outputs": [
    {
     "data": {
      "text/html": [
       "<div>\n",
       "<style scoped>\n",
       "    .dataframe tbody tr th:only-of-type {\n",
       "        vertical-align: middle;\n",
       "    }\n",
       "\n",
       "    .dataframe tbody tr th {\n",
       "        vertical-align: top;\n",
       "    }\n",
       "\n",
       "    .dataframe thead th {\n",
       "        text-align: right;\n",
       "    }\n",
       "</style>\n",
       "<table border=\"1\" class=\"dataframe\">\n",
       "  <thead>\n",
       "    <tr style=\"text-align: right;\">\n",
       "      <th></th>\n",
       "      <th>0</th>\n",
       "      <th>1</th>\n",
       "      <th>2</th>\n",
       "      <th>3</th>\n",
       "    </tr>\n",
       "  </thead>\n",
       "  <tbody>\n",
       "    <tr>\n",
       "      <th>Skills1</th>\n",
       "      <td>python IOT</td>\n",
       "      <td>graphics designer</td>\n",
       "      <td>video animation</td>\n",
       "      <td>video editor</td>\n",
       "    </tr>\n",
       "  </tbody>\n",
       "</table>\n",
       "</div>"
      ],
      "text/plain": [
       "                  0                  1                2             3\n",
       "Skills1  python IOT  graphics designer  video animation  video editor"
      ]
     },
     "execution_count": 3,
     "metadata": {},
     "output_type": "execute_result"
    }
   ],
   "source": [
    "abdul = pd.DataFrame(abdul).T\n",
    "abdul_ = abdul.rename({\"Skills\":\"Skills1\"})\n",
    "abdul1 = abdul_.drop(\"Unnamed: 0\")\n",
    "abdul1"
   ]
  },
  {
   "cell_type": "code",
   "execution_count": 5,
   "metadata": {},
   "outputs": [
    {
     "data": {
      "text/html": [
       "<div>\n",
       "<style scoped>\n",
       "    .dataframe tbody tr th:only-of-type {\n",
       "        vertical-align: middle;\n",
       "    }\n",
       "\n",
       "    .dataframe tbody tr th {\n",
       "        vertical-align: top;\n",
       "    }\n",
       "\n",
       "    .dataframe thead th {\n",
       "        text-align: right;\n",
       "    }\n",
       "</style>\n",
       "<table border=\"1\" class=\"dataframe\">\n",
       "  <thead>\n",
       "    <tr style=\"text-align: right;\">\n",
       "      <th></th>\n",
       "      <th>0</th>\n",
       "      <th>1</th>\n",
       "      <th>2</th>\n",
       "      <th>3</th>\n",
       "    </tr>\n",
       "  </thead>\n",
       "  <tbody>\n",
       "    <tr>\n",
       "      <th>Skills1</th>\n",
       "      <td>python</td>\n",
       "      <td>graphics designer</td>\n",
       "      <td>video animation</td>\n",
       "      <td>video editor</td>\n",
       "    </tr>\n",
       "  </tbody>\n",
       "</table>\n",
       "</div>"
      ],
      "text/plain": [
       "              0                  1                2             3\n",
       "Skills1  python  graphics designer  video animation  video editor"
      ]
     },
     "execution_count": 5,
     "metadata": {},
     "output_type": "execute_result"
    }
   ],
   "source": [
    "abu = abdul1[0].all().split(' ')\n",
    "abdul1[0] = abu[0]\n",
    "abdul1"
   ]
  },
  {
   "cell_type": "code",
   "execution_count": 6,
   "metadata": {},
   "outputs": [
    {
     "data": {
      "text/html": [
       "<div>\n",
       "<style scoped>\n",
       "    .dataframe tbody tr th:only-of-type {\n",
       "        vertical-align: middle;\n",
       "    }\n",
       "\n",
       "    .dataframe tbody tr th {\n",
       "        vertical-align: top;\n",
       "    }\n",
       "\n",
       "    .dataframe thead th {\n",
       "        text-align: right;\n",
       "    }\n",
       "</style>\n",
       "<table border=\"1\" class=\"dataframe\">\n",
       "  <thead>\n",
       "    <tr style=\"text-align: right;\">\n",
       "      <th></th>\n",
       "      <th>Skill 1.</th>\n",
       "      <th>Skill 2.</th>\n",
       "    </tr>\n",
       "  </thead>\n",
       "  <tbody>\n",
       "    <tr>\n",
       "      <th>0</th>\n",
       "      <td>Excellent in Microsoft Office</td>\n",
       "      <td>Basic Knowledge of java, c programming and python</td>\n",
       "    </tr>\n",
       "  </tbody>\n",
       "</table>\n",
       "</div>"
      ],
      "text/plain": [
       "                        Skill 1.  \\\n",
       "0  Excellent in Microsoft Office   \n",
       "\n",
       "                                            Skill 2.  \n",
       "0  Basic Knowledge of java, c programming and python  "
      ]
     },
     "execution_count": 6,
     "metadata": {},
     "output_type": "execute_result"
    }
   ],
   "source": [
    "aishat = pd.DataFrame(aishat)\n",
    "aishat_ = aishat.drop('Unnamed: 0', axis='columns')\n",
    "aishat_"
   ]
  },
  {
   "cell_type": "code",
   "execution_count": 7,
   "metadata": {},
   "outputs": [
    {
     "data": {
      "text/plain": [
       "['java', 'c', 'programming', 'python']"
      ]
     },
     "execution_count": 7,
     "metadata": {},
     "output_type": "execute_result"
    }
   ],
   "source": [
    "aishat_1 = str(aishat_['Skill 1.'].all()).split(' ')\n",
    "aishat_11 = str(aishat_['Skill 2.'].all()).split(' ')\n",
    "del aishat_1[0]\n",
    "del aishat_1[0]\n",
    "del aishat_11[0]\n",
    "del aishat_11[0]\n",
    "del aishat_11[0]\n",
    "del aishat_11[3]\n",
    "aishat_11[0] = aishat_11[0].strip(',')\n",
    "aish = ' '.join(aishat_1)\n",
    "aishat_11"
   ]
  },
  {
   "cell_type": "code",
   "execution_count": 8,
   "metadata": {},
   "outputs": [
    {
     "data": {
      "text/plain": [
       "['java', 'c', 'programming', 'python', 'Microsoft Office']"
      ]
     },
     "execution_count": 8,
     "metadata": {},
     "output_type": "execute_result"
    }
   ],
   "source": [
    "aishat12 = []\n",
    "for i in aishat_11:\n",
    "    aishat12.append(i)\n",
    "aishat12.append(aish)\n",
    "aishat12"
   ]
  },
  {
   "cell_type": "code",
   "execution_count": 9,
   "metadata": {},
   "outputs": [
    {
     "data": {
      "text/html": [
       "<div>\n",
       "<style scoped>\n",
       "    .dataframe tbody tr th:only-of-type {\n",
       "        vertical-align: middle;\n",
       "    }\n",
       "\n",
       "    .dataframe tbody tr th {\n",
       "        vertical-align: top;\n",
       "    }\n",
       "\n",
       "    .dataframe thead th {\n",
       "        text-align: right;\n",
       "    }\n",
       "</style>\n",
       "<table border=\"1\" class=\"dataframe\">\n",
       "  <thead>\n",
       "    <tr style=\"text-align: right;\">\n",
       "      <th></th>\n",
       "      <th>0</th>\n",
       "      <th>1</th>\n",
       "      <th>2</th>\n",
       "      <th>3</th>\n",
       "      <th>4</th>\n",
       "    </tr>\n",
       "  </thead>\n",
       "  <tbody>\n",
       "    <tr>\n",
       "      <th>Skills2</th>\n",
       "      <td>java</td>\n",
       "      <td>c</td>\n",
       "      <td>programming</td>\n",
       "      <td>python</td>\n",
       "      <td>Microsoft Office</td>\n",
       "    </tr>\n",
       "  </tbody>\n",
       "</table>\n",
       "</div>"
      ],
      "text/plain": [
       "            0  1            2       3                 4\n",
       "Skills2  java  c  programming  python  Microsoft Office"
      ]
     },
     "execution_count": 9,
     "metadata": {},
     "output_type": "execute_result"
    }
   ],
   "source": [
    "aishat_ = {'Skills2':aishat12}\n",
    "aishat22 = pd.DataFrame(aishat_).T\n",
    "aishat22"
   ]
  },
  {
   "cell_type": "code",
   "execution_count": 10,
   "metadata": {},
   "outputs": [
    {
     "data": {
      "text/html": [
       "<div>\n",
       "<style scoped>\n",
       "    .dataframe tbody tr th:only-of-type {\n",
       "        vertical-align: middle;\n",
       "    }\n",
       "\n",
       "    .dataframe tbody tr th {\n",
       "        vertical-align: top;\n",
       "    }\n",
       "\n",
       "    .dataframe thead th {\n",
       "        text-align: right;\n",
       "    }\n",
       "</style>\n",
       "<table border=\"1\" class=\"dataframe\">\n",
       "  <thead>\n",
       "    <tr style=\"text-align: right;\">\n",
       "      <th></th>\n",
       "      <th>0</th>\n",
       "      <th>1</th>\n",
       "      <th>2</th>\n",
       "      <th>3</th>\n",
       "      <th>4</th>\n",
       "      <th>5</th>\n",
       "      <th>6</th>\n",
       "    </tr>\n",
       "  </thead>\n",
       "  <tbody>\n",
       "    <tr>\n",
       "      <th>Skills3</th>\n",
       "      <td>Playing</td>\n",
       "      <td>Reading</td>\n",
       "      <td>Coding</td>\n",
       "      <td>Sleeping</td>\n",
       "      <td>Drinking</td>\n",
       "      <td>Smoking</td>\n",
       "      <td>Partying</td>\n",
       "    </tr>\n",
       "  </tbody>\n",
       "</table>\n",
       "</div>"
      ],
      "text/plain": [
       "               0        1       2         3         4        5         6\n",
       "Skills3  Playing  Reading  Coding  Sleeping  Drinking  Smoking  Partying"
      ]
     },
     "execution_count": 10,
     "metadata": {},
     "output_type": "execute_result"
    }
   ],
   "source": [
    "bisola = pd.DataFrame(bisola).T\n",
    "bisola3 = bisola.rename({'skills':\"Skills3\"})\n",
    "bisola33 = bisola3.drop(\"Unnamed: 0\")\n",
    "bisola33"
   ]
  },
  {
   "cell_type": "code",
   "execution_count": 11,
   "metadata": {},
   "outputs": [
    {
     "data": {
      "text/html": [
       "<div>\n",
       "<style scoped>\n",
       "    .dataframe tbody tr th:only-of-type {\n",
       "        vertical-align: middle;\n",
       "    }\n",
       "\n",
       "    .dataframe tbody tr th {\n",
       "        vertical-align: top;\n",
       "    }\n",
       "\n",
       "    .dataframe thead th {\n",
       "        text-align: right;\n",
       "    }\n",
       "</style>\n",
       "<table border=\"1\" class=\"dataframe\">\n",
       "  <thead>\n",
       "    <tr style=\"text-align: right;\">\n",
       "      <th></th>\n",
       "      <th>0</th>\n",
       "      <th>1</th>\n",
       "      <th>2</th>\n",
       "      <th>3</th>\n",
       "      <th>4</th>\n",
       "    </tr>\n",
       "  </thead>\n",
       "  <tbody>\n",
       "    <tr>\n",
       "      <th>Skills4</th>\n",
       "      <td>I</td>\n",
       "      <td>am</td>\n",
       "      <td>just</td>\n",
       "      <td>so</td>\n",
       "      <td>cool</td>\n",
       "    </tr>\n",
       "  </tbody>\n",
       "</table>\n",
       "</div>"
      ],
      "text/plain": [
       "         0   1     2   3     4\n",
       "Skills4  I  am  just  so  cool"
      ]
     },
     "execution_count": 11,
     "metadata": {},
     "output_type": "execute_result"
    }
   ],
   "source": [
    "feranmi_ = pd.DataFrame(feranmi).T\n",
    "feranmi4 = feranmi_.rename({'Skills':\"Skills4\"})\n",
    "feranmi4"
   ]
  },
  {
   "cell_type": "code",
   "execution_count": 12,
   "metadata": {},
   "outputs": [
    {
     "data": {
      "text/html": [
       "<div>\n",
       "<style scoped>\n",
       "    .dataframe tbody tr th:only-of-type {\n",
       "        vertical-align: middle;\n",
       "    }\n",
       "\n",
       "    .dataframe tbody tr th {\n",
       "        vertical-align: top;\n",
       "    }\n",
       "\n",
       "    .dataframe thead th {\n",
       "        text-align: right;\n",
       "    }\n",
       "</style>\n",
       "<table border=\"1\" class=\"dataframe\">\n",
       "  <thead>\n",
       "    <tr style=\"text-align: right;\">\n",
       "      <th></th>\n",
       "      <th>0</th>\n",
       "      <th>1</th>\n",
       "      <th>2</th>\n",
       "      <th>3</th>\n",
       "      <th>4</th>\n",
       "    </tr>\n",
       "  </thead>\n",
       "  <tbody>\n",
       "    <tr>\n",
       "      <th>Skills5</th>\n",
       "      <td>Python</td>\n",
       "      <td>Machine learning</td>\n",
       "      <td>MATLAB</td>\n",
       "      <td>Microsoft Word</td>\n",
       "      <td>Microsoft Excel</td>\n",
       "    </tr>\n",
       "  </tbody>\n",
       "</table>\n",
       "</div>"
      ],
      "text/plain": [
       "              0                 1       2               3                4\n",
       "Skills5  Python  Machine learning  MATLAB  Microsoft Word  Microsoft Excel"
      ]
     },
     "execution_count": 12,
     "metadata": {},
     "output_type": "execute_result"
    }
   ],
   "source": [
    "samuel_ = pd.DataFrame(samuel).T\n",
    "samuel5 = samuel_.rename({0:\"Skills5\"})\n",
    "samuel5_ = samuel5.rename({'0':0, '1':1, '2':2, '3':3, '4':4}, axis='columns')\n",
    "samuel55 = samuel5_.drop(\"Unnamed: 0\", axis=\"columns\")\n",
    "samuel55"
   ]
  },
  {
   "cell_type": "code",
   "execution_count": 13,
   "metadata": {},
   "outputs": [
    {
     "data": {
      "text/html": [
       "<div>\n",
       "<style scoped>\n",
       "    .dataframe tbody tr th:only-of-type {\n",
       "        vertical-align: middle;\n",
       "    }\n",
       "\n",
       "    .dataframe tbody tr th {\n",
       "        vertical-align: top;\n",
       "    }\n",
       "\n",
       "    .dataframe thead th {\n",
       "        text-align: right;\n",
       "    }\n",
       "</style>\n",
       "<table border=\"1\" class=\"dataframe\">\n",
       "  <thead>\n",
       "    <tr style=\"text-align: right;\">\n",
       "      <th></th>\n",
       "      <th>0</th>\n",
       "    </tr>\n",
       "  </thead>\n",
       "  <tbody>\n",
       "    <tr>\n",
       "      <th>Skills6</th>\n",
       "      <td>['Basic level of python']</td>\n",
       "    </tr>\n",
       "  </tbody>\n",
       "</table>\n",
       "</div>"
      ],
      "text/plain": [
       "                                 0\n",
       "Skills6  ['Basic level of python']"
      ]
     },
     "execution_count": 13,
     "metadata": {},
     "output_type": "execute_result"
    }
   ],
   "source": [
    "state_ = pd.DataFrame(state).T\n",
    "state6 = state_.drop([\"Unnamed: 0\", \"Ref\"]).rename({\"Skills\":\"Skills6\"})\n",
    "state6"
   ]
  },
  {
   "cell_type": "code",
   "execution_count": 14,
   "metadata": {},
   "outputs": [
    {
     "data": {
      "text/html": [
       "<div>\n",
       "<style scoped>\n",
       "    .dataframe tbody tr th:only-of-type {\n",
       "        vertical-align: middle;\n",
       "    }\n",
       "\n",
       "    .dataframe tbody tr th {\n",
       "        vertical-align: top;\n",
       "    }\n",
       "\n",
       "    .dataframe thead th {\n",
       "        text-align: right;\n",
       "    }\n",
       "</style>\n",
       "<table border=\"1\" class=\"dataframe\">\n",
       "  <thead>\n",
       "    <tr style=\"text-align: right;\">\n",
       "      <th></th>\n",
       "      <th>0</th>\n",
       "    </tr>\n",
       "  </thead>\n",
       "  <tbody>\n",
       "    <tr>\n",
       "      <th>Skills6</th>\n",
       "      <td>python</td>\n",
       "    </tr>\n",
       "  </tbody>\n",
       "</table>\n",
       "</div>"
      ],
      "text/plain": [
       "              0\n",
       "Skills6  python"
      ]
     },
     "execution_count": 14,
     "metadata": {},
     "output_type": "execute_result"
    }
   ],
   "source": [
    "Skills_6 = list(state6[0].all().split(' '))\n",
    "state6_ = Skills_6[3].strip(\"']\")\n",
    "state = [state6_]\n",
    "state_6 = pd.DataFrame(state).T\n",
    "state66 = state_6.rename({0:\"Skills6\"})\n",
    "state66"
   ]
  },
  {
   "cell_type": "code",
   "execution_count": 15,
   "metadata": {},
   "outputs": [
    {
     "data": {
      "text/html": [
       "<div>\n",
       "<style scoped>\n",
       "    .dataframe tbody tr th:only-of-type {\n",
       "        vertical-align: middle;\n",
       "    }\n",
       "\n",
       "    .dataframe tbody tr th {\n",
       "        vertical-align: top;\n",
       "    }\n",
       "\n",
       "    .dataframe thead th {\n",
       "        text-align: right;\n",
       "    }\n",
       "</style>\n",
       "<table border=\"1\" class=\"dataframe\">\n",
       "  <thead>\n",
       "    <tr style=\"text-align: right;\">\n",
       "      <th></th>\n",
       "      <th>0</th>\n",
       "      <th>1</th>\n",
       "      <th>2</th>\n",
       "      <th>3</th>\n",
       "      <th>4</th>\n",
       "    </tr>\n",
       "  </thead>\n",
       "  <tbody>\n",
       "    <tr>\n",
       "      <th>Skills7</th>\n",
       "      <td>Python,</td>\n",
       "      <td>Machine</td>\n",
       "      <td>learning,</td>\n",
       "      <td>microsoft</td>\n",
       "      <td>office</td>\n",
       "    </tr>\n",
       "  </tbody>\n",
       "</table>\n",
       "</div>"
      ],
      "text/plain": [
       "               0        1          2          3       4\n",
       "Skills7  Python,  Machine  learning,  microsoft  office"
      ]
     },
     "execution_count": 15,
     "metadata": {},
     "output_type": "execute_result"
    }
   ],
   "source": [
    "theo_ = pd.DataFrame(theo).T\n",
    "theo7 = theo_.drop('Unnamed: 0', axis='columns')\n",
    "theo7_7 = theo7.rename({0:\"Skills7\"})\n",
    "theo77 = theo7_7.rename({'0':0, '1':1, '2':2, '3':3, '4':4}, axis='columns')\n",
    "theo77"
   ]
  },
  {
   "cell_type": "code",
   "execution_count": 16,
   "metadata": {},
   "outputs": [
    {
     "data": {
      "text/html": [
       "<div>\n",
       "<style scoped>\n",
       "    .dataframe tbody tr th:only-of-type {\n",
       "        vertical-align: middle;\n",
       "    }\n",
       "\n",
       "    .dataframe tbody tr th {\n",
       "        vertical-align: top;\n",
       "    }\n",
       "\n",
       "    .dataframe thead th {\n",
       "        text-align: right;\n",
       "    }\n",
       "</style>\n",
       "<table border=\"1\" class=\"dataframe\">\n",
       "  <thead>\n",
       "    <tr style=\"text-align: right;\">\n",
       "      <th></th>\n",
       "      <th>0</th>\n",
       "      <th>1</th>\n",
       "      <th>2</th>\n",
       "      <th>3</th>\n",
       "      <th>4</th>\n",
       "    </tr>\n",
       "  </thead>\n",
       "  <tbody>\n",
       "    <tr>\n",
       "      <th>Skills7</th>\n",
       "      <td>Python</td>\n",
       "      <td>Machine</td>\n",
       "      <td>learning,</td>\n",
       "      <td>microsoft</td>\n",
       "      <td>office</td>\n",
       "    </tr>\n",
       "  </tbody>\n",
       "</table>\n",
       "</div>"
      ],
      "text/plain": [
       "              0        1          2          3       4\n",
       "Skills7  Python  Machine  learning,  microsoft  office"
      ]
     },
     "execution_count": 16,
     "metadata": {},
     "output_type": "execute_result"
    }
   ],
   "source": [
    "theo77[0] = theo77[0].all().strip(',')\n",
    "theo77"
   ]
  },
  {
   "cell_type": "code",
   "execution_count": 17,
   "metadata": {
    "scrolled": true
   },
   "outputs": [
    {
     "data": {
      "text/html": [
       "<div>\n",
       "<style scoped>\n",
       "    .dataframe tbody tr th:only-of-type {\n",
       "        vertical-align: middle;\n",
       "    }\n",
       "\n",
       "    .dataframe tbody tr th {\n",
       "        vertical-align: top;\n",
       "    }\n",
       "\n",
       "    .dataframe thead th {\n",
       "        text-align: right;\n",
       "    }\n",
       "</style>\n",
       "<table border=\"1\" class=\"dataframe\">\n",
       "  <thead>\n",
       "    <tr style=\"text-align: right;\">\n",
       "      <th></th>\n",
       "      <th>0</th>\n",
       "      <th>1</th>\n",
       "      <th>2</th>\n",
       "      <th>3</th>\n",
       "      <th>4</th>\n",
       "      <th>5</th>\n",
       "      <th>6</th>\n",
       "    </tr>\n",
       "  </thead>\n",
       "  <tbody>\n",
       "    <tr>\n",
       "      <th>Skills1</th>\n",
       "      <td>python</td>\n",
       "      <td>graphics designer</td>\n",
       "      <td>video animation</td>\n",
       "      <td>video editor</td>\n",
       "      <td>NaN</td>\n",
       "      <td>NaN</td>\n",
       "      <td>NaN</td>\n",
       "    </tr>\n",
       "    <tr>\n",
       "      <th>Skills2</th>\n",
       "      <td>java</td>\n",
       "      <td>c</td>\n",
       "      <td>programming</td>\n",
       "      <td>python</td>\n",
       "      <td>Microsoft Office</td>\n",
       "      <td>NaN</td>\n",
       "      <td>NaN</td>\n",
       "    </tr>\n",
       "    <tr>\n",
       "      <th>Skills3</th>\n",
       "      <td>Playing</td>\n",
       "      <td>Reading</td>\n",
       "      <td>Coding</td>\n",
       "      <td>Sleeping</td>\n",
       "      <td>Drinking</td>\n",
       "      <td>Smoking</td>\n",
       "      <td>Partying</td>\n",
       "    </tr>\n",
       "    <tr>\n",
       "      <th>Skills4</th>\n",
       "      <td>I</td>\n",
       "      <td>am</td>\n",
       "      <td>just</td>\n",
       "      <td>so</td>\n",
       "      <td>cool</td>\n",
       "      <td>NaN</td>\n",
       "      <td>NaN</td>\n",
       "    </tr>\n",
       "    <tr>\n",
       "      <th>Skills5</th>\n",
       "      <td>Python</td>\n",
       "      <td>Machine learning</td>\n",
       "      <td>MATLAB</td>\n",
       "      <td>Microsoft Word</td>\n",
       "      <td>Microsoft Excel</td>\n",
       "      <td>NaN</td>\n",
       "      <td>NaN</td>\n",
       "    </tr>\n",
       "    <tr>\n",
       "      <th>Skills6</th>\n",
       "      <td>python</td>\n",
       "      <td>NaN</td>\n",
       "      <td>NaN</td>\n",
       "      <td>NaN</td>\n",
       "      <td>NaN</td>\n",
       "      <td>NaN</td>\n",
       "      <td>NaN</td>\n",
       "    </tr>\n",
       "    <tr>\n",
       "      <th>Skills7</th>\n",
       "      <td>Python</td>\n",
       "      <td>Machine</td>\n",
       "      <td>learning,</td>\n",
       "      <td>microsoft</td>\n",
       "      <td>office</td>\n",
       "      <td>NaN</td>\n",
       "      <td>NaN</td>\n",
       "    </tr>\n",
       "  </tbody>\n",
       "</table>\n",
       "</div>"
      ],
      "text/plain": [
       "               0                  1                2               3  \\\n",
       "Skills1   python  graphics designer  video animation    video editor   \n",
       "Skills2     java                  c      programming          python   \n",
       "Skills3  Playing            Reading           Coding        Sleeping   \n",
       "Skills4        I                 am             just              so   \n",
       "Skills5   Python   Machine learning           MATLAB  Microsoft Word   \n",
       "Skills6   python                NaN              NaN             NaN   \n",
       "Skills7   Python            Machine        learning,       microsoft   \n",
       "\n",
       "                        4        5         6  \n",
       "Skills1               NaN      NaN       NaN  \n",
       "Skills2  Microsoft Office      NaN       NaN  \n",
       "Skills3          Drinking  Smoking  Partying  \n",
       "Skills4              cool      NaN       NaN  \n",
       "Skills5   Microsoft Excel      NaN       NaN  \n",
       "Skills6               NaN      NaN       NaN  \n",
       "Skills7            office      NaN       NaN  "
      ]
     },
     "execution_count": 17,
     "metadata": {},
     "output_type": "execute_result"
    }
   ],
   "source": [
    "cat = pd.concat([abdul1, aishat22, bisola33, feranmi4, samuel55, state66, theo77], sort=True)\n",
    "cat"
   ]
  },
  {
   "cell_type": "code",
   "execution_count": 18,
   "metadata": {},
   "outputs": [
    {
     "data": {
      "text/plain": [
       "Skills1     python\n",
       "Skills2       java\n",
       "Skills3    Playing\n",
       "Skills4          I\n",
       "Skills5     Python\n",
       "Skills6     python\n",
       "Skills7     Python\n",
       "Name: 0, dtype: object"
      ]
     },
     "execution_count": 18,
     "metadata": {},
     "output_type": "execute_result"
    }
   ],
   "source": [
    "cat[0]"
   ]
  },
  {
   "cell_type": "code",
   "execution_count": 19,
   "metadata": {},
   "outputs": [
    {
     "data": {
      "text/plain": [
       "array(['python', 'java', 'Playing', 'I', 'Python'], dtype=object)"
      ]
     },
     "execution_count": 19,
     "metadata": {},
     "output_type": "execute_result"
    }
   ],
   "source": [
    "n1 = cat[0].unique()\n",
    "n1"
   ]
  },
  {
   "cell_type": "code",
   "execution_count": 33,
   "metadata": {},
   "outputs": [
    {
     "data": {
      "text/plain": [
       "array(['graphics designer', 'c', 'Reading', 'am', 'Machine learning', nan,\n",
       "       'Machine'], dtype=object)"
      ]
     },
     "execution_count": 33,
     "metadata": {},
     "output_type": "execute_result"
    }
   ],
   "source": [
    "n2 = cat[1].unique()\n",
    "n2"
   ]
  },
  {
   "cell_type": "code",
   "execution_count": 21,
   "metadata": {},
   "outputs": [
    {
     "data": {
      "text/plain": [
       "array(['video animation', 'programming', 'Coding', 'just', 'MATLAB', nan,\n",
       "       'learning,'], dtype=object)"
      ]
     },
     "execution_count": 21,
     "metadata": {},
     "output_type": "execute_result"
    }
   ],
   "source": [
    "n3 = cat[2].unique()\n",
    "n3"
   ]
  },
  {
   "cell_type": "code",
   "execution_count": 22,
   "metadata": {},
   "outputs": [
    {
     "data": {
      "text/plain": [
       "array(['video editor', 'python', 'Sleeping', 'so', 'Microsoft Word', nan,\n",
       "       'microsoft'], dtype=object)"
      ]
     },
     "execution_count": 22,
     "metadata": {},
     "output_type": "execute_result"
    }
   ],
   "source": [
    "n4 = cat[3].unique()\n",
    "n4"
   ]
  },
  {
   "cell_type": "code",
   "execution_count": 23,
   "metadata": {},
   "outputs": [
    {
     "data": {
      "text/plain": [
       "array([nan, 'Microsoft Office', 'Drinking', 'cool', 'Microsoft Excel',\n",
       "       'office'], dtype=object)"
      ]
     },
     "execution_count": 23,
     "metadata": {},
     "output_type": "execute_result"
    }
   ],
   "source": [
    "n5 = cat[4].unique()\n",
    "n5"
   ]
  },
  {
   "cell_type": "code",
   "execution_count": 24,
   "metadata": {},
   "outputs": [
    {
     "data": {
      "text/plain": [
       "array([nan, 'Smoking'], dtype=object)"
      ]
     },
     "execution_count": 24,
     "metadata": {},
     "output_type": "execute_result"
    }
   ],
   "source": [
    "n6 = cat[5].unique()\n",
    "n6"
   ]
  },
  {
   "cell_type": "code",
   "execution_count": 25,
   "metadata": {},
   "outputs": [
    {
     "data": {
      "text/plain": [
       "array([nan, 'Partying'], dtype=object)"
      ]
     },
     "execution_count": 25,
     "metadata": {},
     "output_type": "execute_result"
    }
   ],
   "source": [
    "n7 = cat[6].unique()\n",
    "n7"
   ]
  },
  {
   "cell_type": "code",
   "execution_count": 39,
   "metadata": {},
   "outputs": [
    {
     "data": {
      "text/plain": [
       "['python',\n",
       " 'java',\n",
       " 'Playing',\n",
       " 'I',\n",
       " 'Python',\n",
       " 'graphics designer',\n",
       " 'c',\n",
       " 'Reading',\n",
       " 'am',\n",
       " 'Machine learning',\n",
       " nan,\n",
       " 'Machine',\n",
       " 'video animation',\n",
       " 'programming',\n",
       " 'Coding',\n",
       " 'just',\n",
       " 'MATLAB',\n",
       " nan,\n",
       " 'learning,',\n",
       " 'video editor',\n",
       " 'python',\n",
       " 'Sleeping',\n",
       " 'so',\n",
       " 'Microsoft Word',\n",
       " nan,\n",
       " 'microsoft',\n",
       " nan,\n",
       " 'Microsoft Office',\n",
       " 'Drinking',\n",
       " 'cool',\n",
       " 'Microsoft Excel',\n",
       " 'office',\n",
       " nan,\n",
       " 'Smoking',\n",
       " nan,\n",
       " 'Partying']"
      ]
     },
     "execution_count": 39,
     "metadata": {},
     "output_type": "execute_result"
    }
   ],
   "source": [
    "n = []\n",
    "for i in n1:\n",
    "    n.append(i)\n",
    "for i in n2:\n",
    "    n.append(i)\n",
    "for i in n3:\n",
    "    n.append(i)\n",
    "for i in n4:\n",
    "    n.append(i)\n",
    "for i in n5:\n",
    "    n.append(i)\n",
    "for i in n6:\n",
    "    n.append(i)\n",
    "for i in n7:\n",
    "    n.append(i)\n",
    "n"
   ]
  },
  {
   "cell_type": "code",
   "execution_count": 46,
   "metadata": {},
   "outputs": [
    {
     "ename": "AttributeError",
     "evalue": "'str' object has no attribute 'type'",
     "output_type": "error",
     "traceback": [
      "\u001b[1;31m-------------------------------------------------\u001b[0m",
      "\u001b[1;31mAttributeError\u001b[0m  Traceback (most recent call last)",
      "\u001b[1;32m<ipython-input-46-8d68973903b4>\u001b[0m in \u001b[0;36m<module>\u001b[1;34m\u001b[0m\n\u001b[0;32m      1\u001b[0m \u001b[1;32mfor\u001b[0m \u001b[0mi\u001b[0m \u001b[1;32min\u001b[0m \u001b[0mn\u001b[0m\u001b[1;33m:\u001b[0m\u001b[1;33m\u001b[0m\u001b[1;33m\u001b[0m\u001b[0m\n\u001b[1;32m----> 2\u001b[1;33m     \u001b[1;32mif\u001b[0m \u001b[0mi\u001b[0m\u001b[1;33m.\u001b[0m\u001b[0mtype\u001b[0m \u001b[1;33m!=\u001b[0m \u001b[0mdtypes\u001b[0m\u001b[1;33m(\u001b[0m\u001b[0mfloat\u001b[0m\u001b[1;33m)\u001b[0m\u001b[1;33m:\u001b[0m\u001b[1;33m\u001b[0m\u001b[1;33m\u001b[0m\u001b[0m\n\u001b[0m\u001b[0;32m      3\u001b[0m         \u001b[0mi\u001b[0m \u001b[1;33m=\u001b[0m \u001b[0mi\u001b[0m\u001b[1;33m.\u001b[0m\u001b[0mupper\u001b[0m\u001b[1;33m(\u001b[0m\u001b[1;33m)\u001b[0m\u001b[1;33m\u001b[0m\u001b[1;33m\u001b[0m\u001b[0m\n\u001b[0;32m      4\u001b[0m \u001b[0mn\u001b[0m\u001b[1;33m\u001b[0m\u001b[1;33m\u001b[0m\u001b[0m\n",
      "\u001b[1;31mAttributeError\u001b[0m: 'str' object has no attribute 'type'"
     ]
    }
   ],
   "source": [
    "for i in n:\n",
    "    if i.type != dtypes(float):\n",
    "        i = i.upper()\n",
    "n"
   ]
  },
  {
   "cell_type": "code",
   "execution_count": null,
   "metadata": {},
   "outputs": [],
   "source": [
    "cat.stack().value_counts()"
   ]
  },
  {
   "cell_type": "code",
   "execution_count": null,
   "metadata": {},
   "outputs": [],
   "source": []
  }
 ],
 "metadata": {
  "kernelspec": {
   "display_name": "Python 3",
   "language": "python",
   "name": "python3"
  },
  "language_info": {
   "codemirror_mode": {
    "name": "ipython",
    "version": 3
   },
   "file_extension": ".py",
   "mimetype": "text/x-python",
   "name": "python",
   "nbconvert_exporter": "python",
   "pygments_lexer": "ipython3",
   "version": "3.7.4"
  }
 },
 "nbformat": 4,
 "nbformat_minor": 2
}
